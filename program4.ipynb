{
 "cells": [
  {
   "metadata": {},
   "cell_type": "markdown",
   "source": [
    "For a given set of training data examples stored in a .CSV file, implement and demonstrate the\n",
    "Find-S algorithm to output a description of the set of all hypotheses consistent with the training\n",
    "examples."
   ],
   "id": "77efbbe8394f4ede"
  },
  {
   "metadata": {
    "ExecuteTime": {
     "end_time": "2025-06-04T09:09:53.230908Z",
     "start_time": "2025-06-04T09:09:52.784768Z"
    }
   },
   "cell_type": "code",
   "source": [
    "from pandas import read_csv\n",
    "\n",
    "data = read_csv(\"https://tailwindv4.netlify.app/data.csv\")\n",
    "data\n",
    "\n"
   ],
   "id": "588a9254a7264578",
   "outputs": [
    {
     "data": {
      "text/plain": [
       "     sky air temp humidity    wind water forecast enjoy sport\n",
       "0  sunny     warm   normal  strong  warm     same         yes\n",
       "1  sunny     warm     high  strong  warm     same         yes\n",
       "2  rainy     cold     high  strong  warm   change          no\n",
       "3  sunny     warm     high  strong  cool   change         yes"
      ],
      "text/html": [
       "<div>\n",
       "<style scoped>\n",
       "    .dataframe tbody tr th:only-of-type {\n",
       "        vertical-align: middle;\n",
       "    }\n",
       "\n",
       "    .dataframe tbody tr th {\n",
       "        vertical-align: top;\n",
       "    }\n",
       "\n",
       "    .dataframe thead th {\n",
       "        text-align: right;\n",
       "    }\n",
       "</style>\n",
       "<table border=\"1\" class=\"dataframe\">\n",
       "  <thead>\n",
       "    <tr style=\"text-align: right;\">\n",
       "      <th></th>\n",
       "      <th>sky</th>\n",
       "      <th>air temp</th>\n",
       "      <th>humidity</th>\n",
       "      <th>wind</th>\n",
       "      <th>water</th>\n",
       "      <th>forecast</th>\n",
       "      <th>enjoy sport</th>\n",
       "    </tr>\n",
       "  </thead>\n",
       "  <tbody>\n",
       "    <tr>\n",
       "      <th>0</th>\n",
       "      <td>sunny</td>\n",
       "      <td>warm</td>\n",
       "      <td>normal</td>\n",
       "      <td>strong</td>\n",
       "      <td>warm</td>\n",
       "      <td>same</td>\n",
       "      <td>yes</td>\n",
       "    </tr>\n",
       "    <tr>\n",
       "      <th>1</th>\n",
       "      <td>sunny</td>\n",
       "      <td>warm</td>\n",
       "      <td>high</td>\n",
       "      <td>strong</td>\n",
       "      <td>warm</td>\n",
       "      <td>same</td>\n",
       "      <td>yes</td>\n",
       "    </tr>\n",
       "    <tr>\n",
       "      <th>2</th>\n",
       "      <td>rainy</td>\n",
       "      <td>cold</td>\n",
       "      <td>high</td>\n",
       "      <td>strong</td>\n",
       "      <td>warm</td>\n",
       "      <td>change</td>\n",
       "      <td>no</td>\n",
       "    </tr>\n",
       "    <tr>\n",
       "      <th>3</th>\n",
       "      <td>sunny</td>\n",
       "      <td>warm</td>\n",
       "      <td>high</td>\n",
       "      <td>strong</td>\n",
       "      <td>cool</td>\n",
       "      <td>change</td>\n",
       "      <td>yes</td>\n",
       "    </tr>\n",
       "  </tbody>\n",
       "</table>\n",
       "</div>"
      ]
     },
     "execution_count": 3,
     "metadata": {},
     "output_type": "execute_result"
    }
   ],
   "execution_count": 3
  },
  {
   "metadata": {
    "ExecuteTime": {
     "end_time": "2025-06-04T09:19:50.864605Z",
     "start_time": "2025-06-04T09:19:50.858098Z"
    }
   },
   "cell_type": "code",
   "source": [
    "def find_s_algo():\n",
    "    features = data.columns[:-1]\n",
    "    print(features)\n",
    "    y_label = data.columns[-1]\n",
    "    print(y_label)\n",
    "    hypothesis = [\"?\" for _ in features]\n",
    "    print(hypothesis)\n",
    "\n",
    "    for idx, row in data.iterrows():\n",
    "        if row[y_label] == \"yes\":\n",
    "            for i, value in enumerate(row[features]):\n",
    "                if hypothesis[i] == \"?\" or hypothesis[i] == value:\n",
    "                    hypothesis[i] = value\n",
    "                else:\n",
    "                    hypothesis[i] = \"?\"\n",
    "\n",
    "    return hypothesis\n",
    "\n",
    "find_s_algo()"
   ],
   "id": "31e7ea20a1135a8b",
   "outputs": [
    {
     "name": "stdout",
     "output_type": "stream",
     "text": [
      "Index(['sky', 'air temp', 'humidity', 'wind', 'water', 'forecast'], dtype='object')\n",
      "enjoy sport\n",
      "['?', '?', '?', '?', '?', '?']\n",
      "['sunny', 'warm', 'high', 'strong', '?', '?']\n"
     ]
    }
   ],
   "execution_count": 12
  },
  {
   "metadata": {},
   "cell_type": "code",
   "outputs": [],
   "execution_count": null,
   "source": "",
   "id": "c4c98a20be36639e"
  }
 ],
 "metadata": {},
 "nbformat": 4,
 "nbformat_minor": 5
}
